{
 "cells": [
  {
   "cell_type": "markdown",
   "id": "eaa63dab",
   "metadata": {},
   "source": [
    "#### Prerequisites\n",
    "\n",
    "1. Azure subscription\n",
    "2. Azure ML SDK installed locally\n",
    "3. Azure Compute cluster\n",
    "4. Azure container instance\n"
   ]
  },
  {
   "cell_type": "code",
   "execution_count": null,
   "id": "4f3cb5b4",
   "metadata": {},
   "outputs": [],
   "source": [
    "# import azure ml core \n",
    "\n",
    "import azureml.core\n",
    "print(\"Current version of azureml core SDK used is:\" azureml.core.Version)\n",
    ")"
   ]
  },
  {
   "cell_type": "markdown",
   "id": "62af6187",
   "metadata": {},
   "source": [
    "#### Configure your Azure ML workspace"
   ]
  },
  {
   "cell_type": "code",
   "execution_count": null,
   "id": "a7d53bd8",
   "metadata": {},
   "outputs": [],
   "source": [
    "# to use AML workspace :\n",
    "\n",
    "\"\"\" \n",
    "1. subscription id\n",
    "2. resource group name\n",
    "3. worksapce name and region \n",
    "\"\"\""
   ]
  },
  {
   "cell_type": "code",
   "execution_count": null,
   "id": "224fe596",
   "metadata": {},
   "outputs": [],
   "source": [
    "import os\n",
    "\n",
    "subscription_id = os.getenv(\"SUBSCRIPTION_ID\", default=\"<my-subscription-id>\")\n",
    "resource_group = os.getenv(\"RESOURCE_GROUP\", default=\"<my-resource-group>\")\n",
    "workspace_name = os.getenv(\"WORKSPACE_NAME\", default=\"<my-workspace-name>\")\n",
    "workspace_region = os.getenv(\"WORKSPACE_REGION\", default=\"centralIndia\")"
   ]
  },
  {
   "cell_type": "code",
   "execution_count": null,
   "id": "e79eb627",
   "metadata": {},
   "outputs": [],
   "source": [
    "# accessing the workspace\n",
    "\n",
    "from azureml.core import Workspace\n",
    "\n",
    "try:\n",
    "    ws = Workspace(subscription_id = subscription_id, resource_group = resource_group, workspace_name = workspace_name)\n",
    "    # write the details of the workspace to a configuration file to the notebook library\n",
    "    ws.write_config()\n",
    "    print(\"Workspace configuration succeeded. Skip the workspace creation steps below\")\n",
    "except:\n",
    "    print(\"Workspace not accessible. Change your parameters or create a new workspace below\")"
   ]
  },
  {
   "cell_type": "markdown",
   "id": "ec9647a2",
   "metadata": {},
   "source": [
    "#### Create Compute resources"
   ]
  },
  {
   "cell_type": "code",
   "execution_count": null,
   "id": "80074ea3",
   "metadata": {},
   "outputs": [],
   "source": [
    "from azureml.core.compute import ComputeTarget, AmlCompute\n",
    "from azureml.core.compute_target import ComputeTargetException\n",
    "\n",
    "# give it a name\n",
    "\n",
    "cpu_cluster_name = \"cluster-compute\"\n",
    "\n",
    "# write try except block to check if the compute exists \n",
    "\n",
    "try:\n",
    "    cpu_cluster = ComputeTarget(workspace=ws, name=cpu_cluster_name)\n",
    "    print(\"Found you!\")\n",
    "except ComputeTargetException:\n",
    "    print(\"Create a cluster and follow below :\")\n",
    "    \n",
    "    # give the new specs of compute you want to create\n",
    "    compute_config = AmlCompute.provisioning_configuration(vm_size=\"STANDARD_D2_V2\",\n",
    "                                                           min_nodes=0,\n",
    "                                                           max_nodes=4)\n",
    "    # cluster with a name\n",
    "    cpu_cluster = ComputeTarget.create(ws, cpu_cluster_name, compute_config)\n",
    "    \n",
    "    # show the completion status \n",
    "    cpu_cluster.wait_for_completion(show_output=True)\n",
    "    \n",
    "    "
   ]
  },
  {
   "cell_type": "markdown",
   "id": "1f215c2a",
   "metadata": {},
   "source": []
  },
  {
   "cell_type": "code",
   "execution_count": null,
   "id": "b4528034",
   "metadata": {},
   "outputs": [],
   "source": []
  }
 ],
 "metadata": {
  "kernelspec": {
   "display_name": "Python 3",
   "language": "python",
   "name": "python3"
  },
  "language_info": {
   "codemirror_mode": {
    "name": "ipython",
    "version": 3
   },
   "file_extension": ".py",
   "mimetype": "text/x-python",
   "name": "python",
   "nbconvert_exporter": "python",
   "pygments_lexer": "ipython3",
   "version": "3.8.8"
  }
 },
 "nbformat": 4,
 "nbformat_minor": 5
}
